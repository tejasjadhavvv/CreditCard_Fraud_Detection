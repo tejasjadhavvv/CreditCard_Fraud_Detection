{
 "cells": [
  {
   "cell_type": "code",
   "execution_count": 1,
   "id": "b5f9dfea",
   "metadata": {
    "_cell_guid": "b1076dfc-b9ad-4769-8c92-a6c4dae69d19",
    "_uuid": "8f2839f25d086af736a60e9eeb907d3b93b6e0e5",
    "execution": {
     "iopub.execute_input": "2024-01-31T06:16:21.697272Z",
     "iopub.status.busy": "2024-01-31T06:16:21.694237Z",
     "iopub.status.idle": "2024-01-31T06:16:23.193273Z",
     "shell.execute_reply": "2024-01-31T06:16:23.190363Z"
    },
    "papermill": {
     "duration": 1.51325,
     "end_time": "2024-01-31T06:16:23.197190",
     "exception": false,
     "start_time": "2024-01-31T06:16:21.683940",
     "status": "completed"
    },
    "tags": []
   },
   "outputs": [
    {
     "name": "stderr",
     "output_type": "stream",
     "text": [
      "── \u001b[1mAttaching core tidyverse packages\u001b[22m ──────────────────────── tidyverse 2.0.0 ──\n",
      "\u001b[32m✔\u001b[39m \u001b[34mdplyr    \u001b[39m 1.1.4     \u001b[32m✔\u001b[39m \u001b[34mreadr    \u001b[39m 2.1.4\n",
      "\u001b[32m✔\u001b[39m \u001b[34mforcats  \u001b[39m 1.0.0     \u001b[32m✔\u001b[39m \u001b[34mstringr  \u001b[39m 1.5.1\n",
      "\u001b[32m✔\u001b[39m \u001b[34mggplot2  \u001b[39m 3.4.4     \u001b[32m✔\u001b[39m \u001b[34mtibble   \u001b[39m 3.2.1\n",
      "\u001b[32m✔\u001b[39m \u001b[34mlubridate\u001b[39m 1.9.3     \u001b[32m✔\u001b[39m \u001b[34mtidyr    \u001b[39m 1.3.0\n",
      "\u001b[32m✔\u001b[39m \u001b[34mpurrr    \u001b[39m 1.0.2     \n",
      "── \u001b[1mConflicts\u001b[22m ────────────────────────────────────────── tidyverse_conflicts() ──\n",
      "\u001b[31m✖\u001b[39m \u001b[34mdplyr\u001b[39m::\u001b[32mfilter()\u001b[39m masks \u001b[34mstats\u001b[39m::filter()\n",
      "\u001b[31m✖\u001b[39m \u001b[34mdplyr\u001b[39m::\u001b[32mlag()\u001b[39m    masks \u001b[34mstats\u001b[39m::lag()\n",
      "\u001b[36mℹ\u001b[39m Use the conflicted package (\u001b[3m\u001b[34m<http://conflicted.r-lib.org/>\u001b[39m\u001b[23m) to force all conflicts to become errors\n",
      "corrplot 0.92 loaded\n",
      "\n"
     ]
    },
    {
     "data": {
      "text/html": [
       "'fraud-detection'"
      ],
      "text/latex": [
       "'fraud-detection'"
      ],
      "text/markdown": [
       "'fraud-detection'"
      ],
      "text/plain": [
       "[1] \"fraud-detection\""
      ]
     },
     "metadata": {},
     "output_type": "display_data"
    }
   ],
   "source": [
    "# Setting Up R enviornment \n",
    "\n",
    "library(tidyverse)\n",
    "library(tidyr)\n",
    "library(readr)\n",
    "library(lubridate)\n",
    "library(ggplot2)\n",
    "library(corrplot)\n",
    "\n",
    "# Input data files are available in the read-only \"../input/\" directory\n",
    "# For example, running this (by clicking run or pressing Shift+Enter) will list all files under the input directory \n",
    "\n",
    "list.files(path = \"../input\")"
   ]
  },
  {
   "cell_type": "markdown",
   "id": "0671bcf3",
   "metadata": {
    "papermill": {
     "duration": 0.006471,
     "end_time": "2024-01-31T06:16:23.210316",
     "exception": false,
     "start_time": "2024-01-31T06:16:23.203845",
     "status": "completed"
    },
    "tags": []
   },
   "source": [
    "# Day 1\n",
    "\n",
    "Goal: Explore the dataset's basic structure (columns, rows, types) "
   ]
  },
  {
   "cell_type": "code",
   "execution_count": 2,
   "id": "8a0e8419",
   "metadata": {
    "execution": {
     "iopub.execute_input": "2024-01-31T06:16:23.263149Z",
     "iopub.status.busy": "2024-01-31T06:16:23.225414Z",
     "iopub.status.idle": "2024-01-31T06:16:33.630362Z",
     "shell.execute_reply": "2024-01-31T06:16:33.627999Z"
    },
    "papermill": {
     "duration": 10.416705,
     "end_time": "2024-01-31T06:16:33.633276",
     "exception": false,
     "start_time": "2024-01-31T06:16:23.216571",
     "status": "completed"
    },
    "tags": []
   },
   "outputs": [
    {
     "name": "stderr",
     "output_type": "stream",
     "text": [
      "\u001b[1m\u001b[22mNew names:\n",
      "\u001b[36m•\u001b[39m `` -> `...1`\n"
     ]
    },
    {
     "data": {
      "text/plain": [
       "cols(\n",
       "  ...1 = \u001b[32mcol_double()\u001b[39m,\n",
       "  trans_date_trans_time = \u001b[34mcol_datetime(format = \"\")\u001b[39m,\n",
       "  cc_num = \u001b[32mcol_double()\u001b[39m,\n",
       "  merchant = \u001b[31mcol_character()\u001b[39m,\n",
       "  category = \u001b[31mcol_character()\u001b[39m,\n",
       "  amt = \u001b[32mcol_double()\u001b[39m,\n",
       "  first = \u001b[31mcol_character()\u001b[39m,\n",
       "  last = \u001b[31mcol_character()\u001b[39m,\n",
       "  gender = \u001b[31mcol_character()\u001b[39m,\n",
       "  street = \u001b[31mcol_character()\u001b[39m,\n",
       "  city = \u001b[31mcol_character()\u001b[39m,\n",
       "  state = \u001b[31mcol_character()\u001b[39m,\n",
       "  zip = \u001b[32mcol_double()\u001b[39m,\n",
       "  lat = \u001b[32mcol_double()\u001b[39m,\n",
       "  long = \u001b[32mcol_double()\u001b[39m,\n",
       "  city_pop = \u001b[32mcol_double()\u001b[39m,\n",
       "  job = \u001b[31mcol_character()\u001b[39m,\n",
       "  dob = \u001b[34mcol_date(format = \"\")\u001b[39m,\n",
       "  trans_num = \u001b[31mcol_character()\u001b[39m,\n",
       "  unix_time = \u001b[32mcol_double()\u001b[39m,\n",
       "  merch_lat = \u001b[32mcol_double()\u001b[39m,\n",
       "  merch_long = \u001b[32mcol_double()\u001b[39m,\n",
       "  is_fraud = \u001b[32mcol_double()\u001b[39m\n",
       ")"
      ]
     },
     "metadata": {},
     "output_type": "display_data"
    }
   ],
   "source": [
    "# load csv file: training dataset \n",
    "credit_card_fraud_df = read_csv('/kaggle/input/fraud-detection/fraudTrain.csv', show_col_types = FALSE)\n",
    "# exploring the column specificication of the data with spec() function \n",
    "spec(credit_card_fraud_df)"
   ]
  },
  {
   "cell_type": "markdown",
   "id": "287ddf04",
   "metadata": {
    "papermill": {
     "duration": 0.006391,
     "end_time": "2024-01-31T06:16:33.646391",
     "exception": false,
     "start_time": "2024-01-31T06:16:33.640000",
     "status": "completed"
    },
    "tags": []
   },
   "source": [
    "**Specifications of Columns (What do each specification mean?)**\n",
    "\n",
    "* *col_double()*\n",
    "\n",
    "    column containing numerical values with decimals\n",
    "\n",
    "* *col_character()*\n",
    "    \n",
    "    column containing textual data (\"characters\")\n",
    "    \n",
    "* *col_date(format = \"\")*\n",
    "    \n",
    "    column containing dates "
   ]
  },
  {
   "cell_type": "code",
   "execution_count": 3,
   "id": "5a8b0f4b",
   "metadata": {
    "execution": {
     "iopub.execute_input": "2024-01-31T06:16:33.663327Z",
     "iopub.status.busy": "2024-01-31T06:16:33.661455Z",
     "iopub.status.idle": "2024-01-31T06:16:33.683826Z",
     "shell.execute_reply": "2024-01-31T06:16:33.681839Z"
    },
    "papermill": {
     "duration": 0.03392,
     "end_time": "2024-01-31T06:16:33.686565",
     "exception": false,
     "start_time": "2024-01-31T06:16:33.652645",
     "status": "completed"
    },
    "tags": []
   },
   "outputs": [
    {
     "data": {
      "text/html": [
       "<style>\n",
       ".list-inline {list-style: none; margin:0; padding: 0}\n",
       ".list-inline>li {display: inline-block}\n",
       ".list-inline>li:not(:last-child)::after {content: \"\\00b7\"; padding: 0 .5ex}\n",
       "</style>\n",
       "<ol class=list-inline><li>'...1'</li><li>'trans_date_trans_time'</li><li>'cc_num'</li><li>'merchant'</li><li>'category'</li><li>'amt'</li><li>'first'</li><li>'last'</li><li>'gender'</li><li>'street'</li><li>'city'</li><li>'state'</li><li>'zip'</li><li>'lat'</li><li>'long'</li><li>'city_pop'</li><li>'job'</li><li>'dob'</li><li>'trans_num'</li><li>'unix_time'</li><li>'merch_lat'</li><li>'merch_long'</li><li>'is_fraud'</li></ol>\n"
      ],
      "text/latex": [
       "\\begin{enumerate*}\n",
       "\\item '...1'\n",
       "\\item 'trans\\_date\\_trans\\_time'\n",
       "\\item 'cc\\_num'\n",
       "\\item 'merchant'\n",
       "\\item 'category'\n",
       "\\item 'amt'\n",
       "\\item 'first'\n",
       "\\item 'last'\n",
       "\\item 'gender'\n",
       "\\item 'street'\n",
       "\\item 'city'\n",
       "\\item 'state'\n",
       "\\item 'zip'\n",
       "\\item 'lat'\n",
       "\\item 'long'\n",
       "\\item 'city\\_pop'\n",
       "\\item 'job'\n",
       "\\item 'dob'\n",
       "\\item 'trans\\_num'\n",
       "\\item 'unix\\_time'\n",
       "\\item 'merch\\_lat'\n",
       "\\item 'merch\\_long'\n",
       "\\item 'is\\_fraud'\n",
       "\\end{enumerate*}\n"
      ],
      "text/markdown": [
       "1. '...1'\n",
       "2. 'trans_date_trans_time'\n",
       "3. 'cc_num'\n",
       "4. 'merchant'\n",
       "5. 'category'\n",
       "6. 'amt'\n",
       "7. 'first'\n",
       "8. 'last'\n",
       "9. 'gender'\n",
       "10. 'street'\n",
       "11. 'city'\n",
       "12. 'state'\n",
       "13. 'zip'\n",
       "14. 'lat'\n",
       "15. 'long'\n",
       "16. 'city_pop'\n",
       "17. 'job'\n",
       "18. 'dob'\n",
       "19. 'trans_num'\n",
       "20. 'unix_time'\n",
       "21. 'merch_lat'\n",
       "22. 'merch_long'\n",
       "23. 'is_fraud'\n",
       "\n",
       "\n"
      ],
      "text/plain": [
       " [1] \"...1\"                  \"trans_date_trans_time\" \"cc_num\"               \n",
       " [4] \"merchant\"              \"category\"              \"amt\"                  \n",
       " [7] \"first\"                 \"last\"                  \"gender\"               \n",
       "[10] \"street\"                \"city\"                  \"state\"                \n",
       "[13] \"zip\"                   \"lat\"                   \"long\"                 \n",
       "[16] \"city_pop\"              \"job\"                   \"dob\"                  \n",
       "[19] \"trans_num\"             \"unix_time\"             \"merch_lat\"            \n",
       "[22] \"merch_long\"            \"is_fraud\"             "
      ]
     },
     "metadata": {},
     "output_type": "display_data"
    }
   ],
   "source": [
    "# exploring names of columns within the dataset\n",
    "\n",
    "names(credit_card_fraud_df)"
   ]
  },
  {
   "cell_type": "code",
   "execution_count": 4,
   "id": "58b7668a",
   "metadata": {
    "execution": {
     "iopub.execute_input": "2024-01-31T06:16:33.704839Z",
     "iopub.status.busy": "2024-01-31T06:16:33.702988Z",
     "iopub.status.idle": "2024-01-31T06:16:33.779485Z",
     "shell.execute_reply": "2024-01-31T06:16:33.777313Z"
    },
    "papermill": {
     "duration": 0.089096,
     "end_time": "2024-01-31T06:16:33.782447",
     "exception": false,
     "start_time": "2024-01-31T06:16:33.693351",
     "status": "completed"
    },
    "tags": []
   },
   "outputs": [
    {
     "data": {
      "text/html": [
       "<table class=\"dataframe\">\n",
       "<caption>A tibble: 6 × 23</caption>\n",
       "<thead>\n",
       "\t<tr><th scope=col>...1</th><th scope=col>trans_date_trans_time</th><th scope=col>cc_num</th><th scope=col>merchant</th><th scope=col>category</th><th scope=col>amt</th><th scope=col>first</th><th scope=col>last</th><th scope=col>gender</th><th scope=col>street</th><th scope=col>⋯</th><th scope=col>lat</th><th scope=col>long</th><th scope=col>city_pop</th><th scope=col>job</th><th scope=col>dob</th><th scope=col>trans_num</th><th scope=col>unix_time</th><th scope=col>merch_lat</th><th scope=col>merch_long</th><th scope=col>is_fraud</th></tr>\n",
       "\t<tr><th scope=col>&lt;dbl&gt;</th><th scope=col>&lt;dttm&gt;</th><th scope=col>&lt;dbl&gt;</th><th scope=col>&lt;chr&gt;</th><th scope=col>&lt;chr&gt;</th><th scope=col>&lt;dbl&gt;</th><th scope=col>&lt;chr&gt;</th><th scope=col>&lt;chr&gt;</th><th scope=col>&lt;chr&gt;</th><th scope=col>&lt;chr&gt;</th><th scope=col>⋯</th><th scope=col>&lt;dbl&gt;</th><th scope=col>&lt;dbl&gt;</th><th scope=col>&lt;dbl&gt;</th><th scope=col>&lt;chr&gt;</th><th scope=col>&lt;date&gt;</th><th scope=col>&lt;chr&gt;</th><th scope=col>&lt;dbl&gt;</th><th scope=col>&lt;dbl&gt;</th><th scope=col>&lt;dbl&gt;</th><th scope=col>&lt;dbl&gt;</th></tr>\n",
       "</thead>\n",
       "<tbody>\n",
       "\t<tr><td>0</td><td>2019-01-01 00:00:18</td><td>2.703186e+15</td><td>fraud_Rippin, Kub and Mann        </td><td>misc_net     </td><td>  4.97</td><td>Jennifer </td><td>Banks  </td><td>F</td><td>561 Perry Cove              </td><td>⋯</td><td>36.0788</td><td> -81.1781</td><td>3495</td><td>Psychologist, counselling        </td><td>1988-03-09</td><td>0b242abb623afc578575680df30655b9</td><td>1325376018</td><td>36.01129</td><td> -82.04832</td><td>0</td></tr>\n",
       "\t<tr><td>1</td><td>2019-01-01 00:00:44</td><td>6.304233e+11</td><td>fraud_Heller, Gutmann and Zieme   </td><td>grocery_pos  </td><td>107.23</td><td>Stephanie</td><td>Gill   </td><td>F</td><td>43039 Riley Greens Suite 393</td><td>⋯</td><td>48.8878</td><td>-118.2105</td><td> 149</td><td>Special educational needs teacher</td><td>1978-06-21</td><td>1f76529f8574734946361c461b024d99</td><td>1325376044</td><td>49.15905</td><td>-118.18646</td><td>0</td></tr>\n",
       "\t<tr><td>2</td><td>2019-01-01 00:00:51</td><td>3.885949e+13</td><td>fraud_Lind-Buckridge              </td><td>entertainment</td><td>220.11</td><td>Edward   </td><td>Sanchez</td><td>M</td><td>594 White Dale Suite 530    </td><td>⋯</td><td>42.1808</td><td>-112.2620</td><td>4154</td><td>Nature conservation officer      </td><td>1962-01-19</td><td>a1a22d70485983eac12b5b88dad1cf95</td><td>1325376051</td><td>43.15070</td><td>-112.15448</td><td>0</td></tr>\n",
       "\t<tr><td>3</td><td>2019-01-01 00:01:16</td><td>3.534094e+15</td><td>fraud_Kutch, Hermiston and Farrell</td><td>gas_transport</td><td> 45.00</td><td>Jeremy   </td><td>White  </td><td>M</td><td>9443 Cynthia Court Apt. 038 </td><td>⋯</td><td>46.2306</td><td>-112.1138</td><td>1939</td><td>Patent attorney                  </td><td>1967-01-12</td><td>6b849c168bdad6f867558c3793159a81</td><td>1325376076</td><td>47.03433</td><td>-112.56107</td><td>0</td></tr>\n",
       "\t<tr><td>4</td><td>2019-01-01 00:03:06</td><td>3.755342e+14</td><td>fraud_Keeling-Crist               </td><td>misc_pos     </td><td> 41.96</td><td>Tyler    </td><td>Garcia </td><td>M</td><td>408 Bradley Rest            </td><td>⋯</td><td>38.4207</td><td> -79.4629</td><td>  99</td><td>Dance movement psychotherapist   </td><td>1986-03-28</td><td>a41d7549acf90789359a9aa5346dcb46</td><td>1325376186</td><td>38.67500</td><td> -78.63246</td><td>0</td></tr>\n",
       "\t<tr><td>5</td><td>2019-01-01 00:04:08</td><td>4.767265e+15</td><td>fraud_Stroman, Hudson and Erdman  </td><td>gas_transport</td><td> 94.63</td><td>Jennifer </td><td>Conner </td><td>F</td><td>4655 David Island           </td><td>⋯</td><td>40.3750</td><td> -75.2045</td><td>2158</td><td>Transport planner                </td><td>1961-06-19</td><td>189a841a0a8ba03058526bcfe566aab5</td><td>1325376248</td><td>40.65338</td><td> -76.15267</td><td>0</td></tr>\n",
       "</tbody>\n",
       "</table>\n"
      ],
      "text/latex": [
       "A tibble: 6 × 23\n",
       "\\begin{tabular}{lllllllllllllllllllll}\n",
       " ...1 & trans\\_date\\_trans\\_time & cc\\_num & merchant & category & amt & first & last & gender & street & ⋯ & lat & long & city\\_pop & job & dob & trans\\_num & unix\\_time & merch\\_lat & merch\\_long & is\\_fraud\\\\\n",
       " <dbl> & <dttm> & <dbl> & <chr> & <chr> & <dbl> & <chr> & <chr> & <chr> & <chr> & ⋯ & <dbl> & <dbl> & <dbl> & <chr> & <date> & <chr> & <dbl> & <dbl> & <dbl> & <dbl>\\\\\n",
       "\\hline\n",
       "\t 0 & 2019-01-01 00:00:18 & 2.703186e+15 & fraud\\_Rippin, Kub and Mann         & misc\\_net      &   4.97 & Jennifer  & Banks   & F & 561 Perry Cove               & ⋯ & 36.0788 &  -81.1781 & 3495 & Psychologist, counselling         & 1988-03-09 & 0b242abb623afc578575680df30655b9 & 1325376018 & 36.01129 &  -82.04832 & 0\\\\\n",
       "\t 1 & 2019-01-01 00:00:44 & 6.304233e+11 & fraud\\_Heller, Gutmann and Zieme    & grocery\\_pos   & 107.23 & Stephanie & Gill    & F & 43039 Riley Greens Suite 393 & ⋯ & 48.8878 & -118.2105 &  149 & Special educational needs teacher & 1978-06-21 & 1f76529f8574734946361c461b024d99 & 1325376044 & 49.15905 & -118.18646 & 0\\\\\n",
       "\t 2 & 2019-01-01 00:00:51 & 3.885949e+13 & fraud\\_Lind-Buckridge               & entertainment & 220.11 & Edward    & Sanchez & M & 594 White Dale Suite 530     & ⋯ & 42.1808 & -112.2620 & 4154 & Nature conservation officer       & 1962-01-19 & a1a22d70485983eac12b5b88dad1cf95 & 1325376051 & 43.15070 & -112.15448 & 0\\\\\n",
       "\t 3 & 2019-01-01 00:01:16 & 3.534094e+15 & fraud\\_Kutch, Hermiston and Farrell & gas\\_transport &  45.00 & Jeremy    & White   & M & 9443 Cynthia Court Apt. 038  & ⋯ & 46.2306 & -112.1138 & 1939 & Patent attorney                   & 1967-01-12 & 6b849c168bdad6f867558c3793159a81 & 1325376076 & 47.03433 & -112.56107 & 0\\\\\n",
       "\t 4 & 2019-01-01 00:03:06 & 3.755342e+14 & fraud\\_Keeling-Crist                & misc\\_pos      &  41.96 & Tyler     & Garcia  & M & 408 Bradley Rest             & ⋯ & 38.4207 &  -79.4629 &   99 & Dance movement psychotherapist    & 1986-03-28 & a41d7549acf90789359a9aa5346dcb46 & 1325376186 & 38.67500 &  -78.63246 & 0\\\\\n",
       "\t 5 & 2019-01-01 00:04:08 & 4.767265e+15 & fraud\\_Stroman, Hudson and Erdman   & gas\\_transport &  94.63 & Jennifer  & Conner  & F & 4655 David Island            & ⋯ & 40.3750 &  -75.2045 & 2158 & Transport planner                 & 1961-06-19 & 189a841a0a8ba03058526bcfe566aab5 & 1325376248 & 40.65338 &  -76.15267 & 0\\\\\n",
       "\\end{tabular}\n"
      ],
      "text/markdown": [
       "\n",
       "A tibble: 6 × 23\n",
       "\n",
       "| ...1 &lt;dbl&gt; | trans_date_trans_time &lt;dttm&gt; | cc_num &lt;dbl&gt; | merchant &lt;chr&gt; | category &lt;chr&gt; | amt &lt;dbl&gt; | first &lt;chr&gt; | last &lt;chr&gt; | gender &lt;chr&gt; | street &lt;chr&gt; | ⋯ ⋯ | lat &lt;dbl&gt; | long &lt;dbl&gt; | city_pop &lt;dbl&gt; | job &lt;chr&gt; | dob &lt;date&gt; | trans_num &lt;chr&gt; | unix_time &lt;dbl&gt; | merch_lat &lt;dbl&gt; | merch_long &lt;dbl&gt; | is_fraud &lt;dbl&gt; |\n",
       "|---|---|---|---|---|---|---|---|---|---|---|---|---|---|---|---|---|---|---|---|---|\n",
       "| 0 | 2019-01-01 00:00:18 | 2.703186e+15 | fraud_Rippin, Kub and Mann         | misc_net      |   4.97 | Jennifer  | Banks   | F | 561 Perry Cove               | ⋯ | 36.0788 |  -81.1781 | 3495 | Psychologist, counselling         | 1988-03-09 | 0b242abb623afc578575680df30655b9 | 1325376018 | 36.01129 |  -82.04832 | 0 |\n",
       "| 1 | 2019-01-01 00:00:44 | 6.304233e+11 | fraud_Heller, Gutmann and Zieme    | grocery_pos   | 107.23 | Stephanie | Gill    | F | 43039 Riley Greens Suite 393 | ⋯ | 48.8878 | -118.2105 |  149 | Special educational needs teacher | 1978-06-21 | 1f76529f8574734946361c461b024d99 | 1325376044 | 49.15905 | -118.18646 | 0 |\n",
       "| 2 | 2019-01-01 00:00:51 | 3.885949e+13 | fraud_Lind-Buckridge               | entertainment | 220.11 | Edward    | Sanchez | M | 594 White Dale Suite 530     | ⋯ | 42.1808 | -112.2620 | 4154 | Nature conservation officer       | 1962-01-19 | a1a22d70485983eac12b5b88dad1cf95 | 1325376051 | 43.15070 | -112.15448 | 0 |\n",
       "| 3 | 2019-01-01 00:01:16 | 3.534094e+15 | fraud_Kutch, Hermiston and Farrell | gas_transport |  45.00 | Jeremy    | White   | M | 9443 Cynthia Court Apt. 038  | ⋯ | 46.2306 | -112.1138 | 1939 | Patent attorney                   | 1967-01-12 | 6b849c168bdad6f867558c3793159a81 | 1325376076 | 47.03433 | -112.56107 | 0 |\n",
       "| 4 | 2019-01-01 00:03:06 | 3.755342e+14 | fraud_Keeling-Crist                | misc_pos      |  41.96 | Tyler     | Garcia  | M | 408 Bradley Rest             | ⋯ | 38.4207 |  -79.4629 |   99 | Dance movement psychotherapist    | 1986-03-28 | a41d7549acf90789359a9aa5346dcb46 | 1325376186 | 38.67500 |  -78.63246 | 0 |\n",
       "| 5 | 2019-01-01 00:04:08 | 4.767265e+15 | fraud_Stroman, Hudson and Erdman   | gas_transport |  94.63 | Jennifer  | Conner  | F | 4655 David Island            | ⋯ | 40.3750 |  -75.2045 | 2158 | Transport planner                 | 1961-06-19 | 189a841a0a8ba03058526bcfe566aab5 | 1325376248 | 40.65338 |  -76.15267 | 0 |\n",
       "\n"
      ],
      "text/plain": [
       "  ...1 trans_date_trans_time cc_num       merchant                          \n",
       "1 0    2019-01-01 00:00:18   2.703186e+15 fraud_Rippin, Kub and Mann        \n",
       "2 1    2019-01-01 00:00:44   6.304233e+11 fraud_Heller, Gutmann and Zieme   \n",
       "3 2    2019-01-01 00:00:51   3.885949e+13 fraud_Lind-Buckridge              \n",
       "4 3    2019-01-01 00:01:16   3.534094e+15 fraud_Kutch, Hermiston and Farrell\n",
       "5 4    2019-01-01 00:03:06   3.755342e+14 fraud_Keeling-Crist               \n",
       "6 5    2019-01-01 00:04:08   4.767265e+15 fraud_Stroman, Hudson and Erdman  \n",
       "  category      amt    first     last    gender street                       ⋯\n",
       "1 misc_net        4.97 Jennifer  Banks   F      561 Perry Cove               ⋯\n",
       "2 grocery_pos   107.23 Stephanie Gill    F      43039 Riley Greens Suite 393 ⋯\n",
       "3 entertainment 220.11 Edward    Sanchez M      594 White Dale Suite 530     ⋯\n",
       "4 gas_transport  45.00 Jeremy    White   M      9443 Cynthia Court Apt. 038  ⋯\n",
       "5 misc_pos       41.96 Tyler     Garcia  M      408 Bradley Rest             ⋯\n",
       "6 gas_transport  94.63 Jennifer  Conner  F      4655 David Island            ⋯\n",
       "  lat     long      city_pop job                               dob       \n",
       "1 36.0788  -81.1781 3495     Psychologist, counselling         1988-03-09\n",
       "2 48.8878 -118.2105  149     Special educational needs teacher 1978-06-21\n",
       "3 42.1808 -112.2620 4154     Nature conservation officer       1962-01-19\n",
       "4 46.2306 -112.1138 1939     Patent attorney                   1967-01-12\n",
       "5 38.4207  -79.4629   99     Dance movement psychotherapist    1986-03-28\n",
       "6 40.3750  -75.2045 2158     Transport planner                 1961-06-19\n",
       "  trans_num                        unix_time  merch_lat merch_long is_fraud\n",
       "1 0b242abb623afc578575680df30655b9 1325376018 36.01129   -82.04832 0       \n",
       "2 1f76529f8574734946361c461b024d99 1325376044 49.15905  -118.18646 0       \n",
       "3 a1a22d70485983eac12b5b88dad1cf95 1325376051 43.15070  -112.15448 0       \n",
       "4 6b849c168bdad6f867558c3793159a81 1325376076 47.03433  -112.56107 0       \n",
       "5 a41d7549acf90789359a9aa5346dcb46 1325376186 38.67500   -78.63246 0       \n",
       "6 189a841a0a8ba03058526bcfe566aab5 1325376248 40.65338   -76.15267 0       "
      ]
     },
     "metadata": {},
     "output_type": "display_data"
    }
   ],
   "source": [
    "# gauging how the data is organized by printing the first five rows within the dataset\n",
    "\n",
    "head(credit_card_fraud_df)"
   ]
  },
  {
   "cell_type": "markdown",
   "id": "0d33291b",
   "metadata": {
    "papermill": {
     "duration": 0.007322,
     "end_time": "2024-01-31T06:16:33.796980",
     "exception": false,
     "start_time": "2024-01-31T06:16:33.789658",
     "status": "completed"
    },
    "tags": []
   },
   "source": [
    "# Day 2 \n",
    "\n",
    "Dataset Overview \n",
    "\n",
    "Goal: Identify missing values and basic data characteristics "
   ]
  },
  {
   "cell_type": "code",
   "execution_count": 5,
   "id": "e856f0c8",
   "metadata": {
    "execution": {
     "iopub.execute_input": "2024-01-31T06:16:33.817425Z",
     "iopub.status.busy": "2024-01-31T06:16:33.815112Z",
     "iopub.status.idle": "2024-01-31T06:16:33.841898Z",
     "shell.execute_reply": "2024-01-31T06:16:33.839334Z"
    },
    "papermill": {
     "duration": 0.041594,
     "end_time": "2024-01-31T06:16:33.845787",
     "exception": false,
     "start_time": "2024-01-31T06:16:33.804193",
     "status": "completed"
    },
    "tags": []
   },
   "outputs": [
    {
     "data": {
      "text/html": [
       "<style>\n",
       ".list-inline {list-style: none; margin:0; padding: 0}\n",
       ".list-inline>li {display: inline-block}\n",
       ".list-inline>li:not(:last-child)::after {content: \"\\00b7\"; padding: 0 .5ex}\n",
       "</style>\n",
       "<ol class=list-inline><li>'spec_tbl_df'</li><li>'tbl_df'</li><li>'tbl'</li><li>'data.frame'</li></ol>\n"
      ],
      "text/latex": [
       "\\begin{enumerate*}\n",
       "\\item 'spec\\_tbl\\_df'\n",
       "\\item 'tbl\\_df'\n",
       "\\item 'tbl'\n",
       "\\item 'data.frame'\n",
       "\\end{enumerate*}\n"
      ],
      "text/markdown": [
       "1. 'spec_tbl_df'\n",
       "2. 'tbl_df'\n",
       "3. 'tbl'\n",
       "4. 'data.frame'\n",
       "\n",
       "\n"
      ],
      "text/plain": [
       "[1] \"spec_tbl_df\" \"tbl_df\"      \"tbl\"         \"data.frame\" "
      ]
     },
     "metadata": {},
     "output_type": "display_data"
    }
   ],
   "source": [
    "# printing each class apparent within the dataframe\n",
    "\n",
    "class(credit_card_fraud_df)"
   ]
  },
  {
   "cell_type": "code",
   "execution_count": 6,
   "id": "b1a60f66",
   "metadata": {
    "execution": {
     "iopub.execute_input": "2024-01-31T06:16:33.866183Z",
     "iopub.status.busy": "2024-01-31T06:16:33.863885Z",
     "iopub.status.idle": "2024-01-31T06:16:35.623233Z",
     "shell.execute_reply": "2024-01-31T06:16:35.621088Z"
    },
    "papermill": {
     "duration": 1.772875,
     "end_time": "2024-01-31T06:16:35.626346",
     "exception": false,
     "start_time": "2024-01-31T06:16:33.853471",
     "status": "completed"
    },
    "tags": []
   },
   "outputs": [
    {
     "name": "stdout",
     "output_type": "stream",
     "text": [
      "                 ...1 trans_date_trans_time                cc_num \n",
      "                    0                     0                     0 \n",
      "             merchant              category                   amt \n",
      "                    0                     0                     0 \n",
      "                first                  last                gender \n",
      "                    0                     0                     0 \n",
      "               street                  city                 state \n",
      "                    0                     0                     0 \n",
      "                  zip                   lat                  long \n",
      "                    0                     0                     0 \n",
      "             city_pop                   job                   dob \n",
      "                    0                     0                     0 \n",
      "            trans_num             unix_time             merch_lat \n",
      "                    0                     0                     0 \n",
      "           merch_long              is_fraud \n",
      "                    0                     0 \n"
     ]
    }
   ],
   "source": [
    "# identify missing values within the dataset \n",
    "\n",
    "missing_values = colSums(is.na(credit_card_fraud_df))\n",
    "print(missing_values)"
   ]
  },
  {
   "cell_type": "markdown",
   "id": "d705513d",
   "metadata": {
    "papermill": {
     "duration": 0.007932,
     "end_time": "2024-01-31T06:16:35.642831",
     "exception": false,
     "start_time": "2024-01-31T06:16:35.634899",
     "status": "completed"
    },
    "tags": []
   },
   "source": [
    "# Day 3\n",
    "\n",
    "Basic Visualization \n",
    "\n",
    "Goal: Create simple charts (bar,line) to understand data distribution "
   ]
  },
  {
   "cell_type": "code",
   "execution_count": 7,
   "id": "b191394d",
   "metadata": {
    "execution": {
     "iopub.execute_input": "2024-01-31T06:16:35.661795Z",
     "iopub.status.busy": "2024-01-31T06:16:35.660118Z",
     "iopub.status.idle": "2024-01-31T06:16:37.000910Z",
     "shell.execute_reply": "2024-01-31T06:16:36.997260Z"
    },
    "papermill": {
     "duration": 1.356304,
     "end_time": "2024-01-31T06:16:37.006626",
     "exception": false,
     "start_time": "2024-01-31T06:16:35.650322",
     "status": "completed"
    },
    "tags": []
   },
   "outputs": [
    {
     "data": {
      "image/png": "[encoded data removed]"
     },
     "metadata": {
      "image/png": {
       "height": 420,
       "width": 420
      }
     },
     "output_type": "display_data"
    }
   ],
   "source": [
    "# gauging the distribution of is_fraud column in a pie chart\n",
    "\n",
    "# Simple Pie Chart\n",
    "table = table(credit_card_fraud_df$is_fraud)\n",
    "lbls <- c(\"True\", \"False\")\n",
    "pie(table, labels = lbls, main=\"Pie Chart of Fraudulent Charges\")"
   ]
  },
  {
   "cell_type": "markdown",
   "id": "e1082cf1",
   "metadata": {
    "papermill": {
     "duration": 0.008818,
     "end_time": "2024-01-31T06:16:37.023935",
     "exception": false,
     "start_time": "2024-01-31T06:16:37.015117",
     "status": "completed"
    },
    "tags": []
   },
   "source": [
    "# Day 4 \n",
    "\n",
    "Basic Visualization \n",
    "\n",
    "Identify basic patterns or trends in the data "
   ]
  },
  {
   "cell_type": "code",
   "execution_count": 8,
   "id": "3da1e0f9",
   "metadata": {
    "execution": {
     "iopub.execute_input": "2024-01-31T06:16:37.045398Z",
     "iopub.status.busy": "2024-01-31T06:16:37.043433Z",
     "iopub.status.idle": "2024-01-31T06:16:37.741138Z",
     "shell.execute_reply": "2024-01-31T06:16:37.737857Z"
    },
    "papermill": {
     "duration": 0.712845,
     "end_time": "2024-01-31T06:16:37.745477",
     "exception": false,
     "start_time": "2024-01-31T06:16:37.032632",
     "status": "completed"
    },
    "tags": []
   },
   "outputs": [
    {
     "data": {
      "image/png": "[encoded data removed]"
     },
     "metadata": {
      "image/png": {
       "height": 420,
       "width": 420
      }
     },
     "output_type": "display_data"
    }
   ],
   "source": [
    "# gauge correlation between each of the columns with a correlation heat map \n",
    "\n",
    "numeric_data = credit_card_fraud_df[sapply(credit_card_fraud_df, is.numeric)]\n",
    "matrix = cor(numeric_data)\n",
    "corrplot(matrix, method = 'number')\n"
   ]
  },
  {
   "cell_type": "markdown",
   "id": "a8daaca9",
   "metadata": {
    "papermill": {
     "duration": 0.009805,
     "end_time": "2024-01-31T06:16:37.765462",
     "exception": false,
     "start_time": "2024-01-31T06:16:37.755657",
     "status": "completed"
    },
    "tags": []
   },
   "source": [
    "# Day 5 \n",
    "\n",
    "Descriptive Statistics \n",
    "\n",
    "Goal: Calculate basic statistics (mean, median, mode, and more) "
   ]
  },
  {
   "cell_type": "code",
   "execution_count": 9,
   "id": "9b492c86",
   "metadata": {
    "execution": {
     "iopub.execute_input": "2024-01-31T06:16:37.789170Z",
     "iopub.status.busy": "2024-01-31T06:16:37.787309Z",
     "iopub.status.idle": "2024-01-31T06:16:39.261219Z",
     "shell.execute_reply": "2024-01-31T06:16:39.258310Z"
    },
    "papermill": {
     "duration": 1.490041,
     "end_time": "2024-01-31T06:16:39.265151",
     "exception": false,
     "start_time": "2024-01-31T06:16:37.775110",
     "status": "completed"
    },
    "tags": []
   },
   "outputs": [
    {
     "data": {
      "text/plain": [
       "      ...1         trans_date_trans_time             cc_num         \n",
       " Min.   :      0   Min.   :2019-01-01 00:00:18   Min.   :6.042e+10  \n",
       " 1st Qu.: 324168   1st Qu.:2019-06-03 19:12:22   1st Qu.:1.800e+14  \n",
       " Median : 648337   Median :2019-10-03 07:35:47   Median :3.521e+15  \n",
       " Mean   : 648337   Mean   :2019-10-03 12:47:28   Mean   :4.172e+17  \n",
       " 3rd Qu.: 972506   3rd Qu.:2020-01-28 15:02:55   3rd Qu.:4.642e+15  \n",
       " Max.   :1296674   Max.   :2020-06-21 12:13:37   Max.   :4.992e+18  \n",
       "   merchant           category              amt              first          \n",
       " Length:1296675     Length:1296675     Min.   :    1.00   Length:1296675    \n",
       " Class :character   Class :character   1st Qu.:    9.65   Class :character  \n",
       " Mode  :character   Mode  :character   Median :   47.52   Mode  :character  \n",
       "                                       Mean   :   70.35                     \n",
       "                                       3rd Qu.:   83.14                     \n",
       "                                       Max.   :28948.90                     \n",
       "     last              gender             street              city          \n",
       " Length:1296675     Length:1296675     Length:1296675     Length:1296675    \n",
       " Class :character   Class :character   Class :character   Class :character  \n",
       " Mode  :character   Mode  :character   Mode  :character   Mode  :character  \n",
       "                                                                            \n",
       "                                                                            \n",
       "                                                                            \n",
       "    state                zip             lat             long        \n",
       " Length:1296675     Min.   : 1257   Min.   :20.03   Min.   :-165.67  \n",
       " Class :character   1st Qu.:26237   1st Qu.:34.62   1st Qu.: -96.80  \n",
       " Mode  :character   Median :48174   Median :39.35   Median : -87.48  \n",
       "                    Mean   :48801   Mean   :38.54   Mean   : -90.23  \n",
       "                    3rd Qu.:72042   3rd Qu.:41.94   3rd Qu.: -80.16  \n",
       "                    Max.   :99783   Max.   :66.69   Max.   : -67.95  \n",
       "    city_pop           job                 dob              trans_num        \n",
       " Min.   :     23   Length:1296675     Min.   :1924-10-30   Length:1296675    \n",
       " 1st Qu.:    743   Class :character   1st Qu.:1962-08-13   Class :character  \n",
       " Median :   2456   Mode  :character   Median :1975-11-30   Mode  :character  \n",
       " Mean   :  88824                      Mean   :1973-10-03                     \n",
       " 3rd Qu.:  20328                      3rd Qu.:1987-02-22                     \n",
       " Max.   :2906700                      Max.   :2005-01-29                     \n",
       "   unix_time           merch_lat       merch_long         is_fraud       \n",
       " Min.   :1.325e+09   Min.   :19.03   Min.   :-166.67   Min.   :0.000000  \n",
       " 1st Qu.:1.339e+09   1st Qu.:34.73   1st Qu.: -96.90   1st Qu.:0.000000  \n",
       " Median :1.349e+09   Median :39.37   Median : -87.44   Median :0.000000  \n",
       " Mean   :1.349e+09   Mean   :38.54   Mean   : -90.23   Mean   :0.005789  \n",
       " 3rd Qu.:1.359e+09   3rd Qu.:41.96   3rd Qu.: -80.24   3rd Qu.:0.000000  \n",
       " Max.   :1.372e+09   Max.   :67.51   Max.   : -66.95   Max.   :1.000000  "
      ]
     },
     "metadata": {},
     "output_type": "display_data"
    }
   ],
   "source": [
    "# printing summary statistics for each column \n",
    "\n",
    "summary(credit_card_fraud_df)"
   ]
  },
  {
   "cell_type": "code",
   "execution_count": 10,
   "id": "3b60c97b",
   "metadata": {
    "execution": {
     "iopub.execute_input": "2024-01-31T06:16:39.292474Z",
     "iopub.status.busy": "2024-01-31T06:16:39.290545Z",
     "iopub.status.idle": "2024-01-31T06:16:39.319051Z",
     "shell.execute_reply": "2024-01-31T06:16:39.316742Z"
    },
    "papermill": {
     "duration": 0.045932,
     "end_time": "2024-01-31T06:16:39.322321",
     "exception": false,
     "start_time": "2024-01-31T06:16:39.276389",
     "status": "completed"
    },
    "tags": []
   },
   "outputs": [
    {
     "name": "stdout",
     "output_type": "stream",
     "text": [
      "[1] 70.35104\n"
     ]
    }
   ],
   "source": [
    "# many of these columns are not numerical, for a specific numerical column, the mean can be calculated as:\n",
    "\n",
    "avg_amt_fraud = mean(x = credit_card_fraud_df$amt)\n",
    "print(avg_amt_fraud)"
   ]
  },
  {
   "cell_type": "markdown",
   "id": "39585a18",
   "metadata": {
    "papermill": {
     "duration": 0.009936,
     "end_time": "2024-01-31T06:16:39.342096",
     "exception": false,
     "start_time": "2024-01-31T06:16:39.332160",
     "status": "completed"
    },
    "tags": []
   },
   "source": [
    "# Day 6 and Day 7 \n",
    "\n",
    "Descriptive Statistics and Summary Presentation \n",
    "\n",
    "Goal: Discuss findings and any surprising elements in the data. Prepare short presentable summary."
   ]
  },
  {
   "cell_type": "markdown",
   "id": "4f8fe282",
   "metadata": {
    "papermill": {
     "duration": 0.010317,
     "end_time": "2024-01-31T06:16:39.362323",
     "exception": false,
     "start_time": "2024-01-31T06:16:39.352006",
     "status": "completed"
    },
    "tags": []
   },
   "source": [
    "**Findings**\n",
    "\n",
    "* Surprisingly, within the training dataset, the amount of fraudulent cases were close to none making an incredible imbalance for analysis\n",
    "* There did not seem to be much correlation between the numerical columns within the dataset with only similarly holding data columns being correlated with each other\n",
    "\n",
    "**Future Directions**\n",
    "\n",
    "* This was my first time utilizing the R programming language for data analysis. I would have liked to integrate the ggplot package into data visualizations. \n",
    "* To tackle the imbalance in the fraudulent charges classification, oversampling or undersampling should be impelemented in future analysis. "
   ]
  }
 ],
 "metadata": {
  "kaggle": {
   "accelerator": "none",
   "dataSources": [
    {
     "datasetId": 817870,
     "sourceId": 1399887,
     "sourceType": "datasetVersion"
    }
   ],
   "dockerImageVersionId": 30618,
   "isGpuEnabled": false,
   "isInternetEnabled": false,
   "language": "r",
   "sourceType": "notebook"
  },
  "kernelspec": {
   "display_name": "R",
   "language": "R",
   "name": "ir"
  },
  "language_info": {
   "codemirror_mode": "r",
   "file_extension": ".r",
   "mimetype": "text/x-r-source",
   "name": "R",
   "pygments_lexer": "r",
   "version": "4.0.5"
  },
  "papermill": {
   "default_parameters": {},
   "duration": 21.85894,
   "end_time": "2024-01-31T06:16:39.495936",
   "environment_variables": {},
   "exception": null,
   "input_path": "__notebook__.ipynb",
   "output_path": "__notebook__.ipynb",
   "parameters": {},
   "start_time": "2024-01-31T06:16:17.636996",
   "version": "2.5.0"
  }
 },
 "nbformat": 4,
 "nbformat_minor": 5
}
